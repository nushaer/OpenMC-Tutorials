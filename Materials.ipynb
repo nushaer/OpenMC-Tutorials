{
 "cells": [
  {
   "cell_type": "code",
   "execution_count": 1,
   "metadata": {},
   "outputs": [],
   "source": [
    "import openmc \n",
    "openmc.config['cross_sections']='/home/nushaer/Desktop/meh/endfb-viii.0-hdf5/cross_sections.xml'\n",
    "\n",
    "import os\n",
    "os.environ['OPENMC_CROSS_SECTIONS']='/home/nushaer/Desktop/meh/endfb-viii.0-hdf5/cross_sections.xml'"
   ]
  },
  {
   "cell_type": "code",
   "execution_count": 2,
   "metadata": {},
   "outputs": [],
   "source": [
    "nat_u = openmc.Material(material_id = 1, name = 'natural uranium')\n",
    "nat_u.add_element('U',1.0)\n",
    "nat_u.add_element('O',2.0)\n",
    "nat_u.set_density('g/cc',10.96)\n",
    "nat_u.temperature = 900\n",
    "nat_u.depletable = True "
   ]
  },
  {
   "cell_type": "code",
   "execution_count": 3,
   "metadata": {},
   "outputs": [
    {
     "data": {
      "text/plain": [
       "Material\n",
       "\tID             =\t1\n",
       "\tName           =\tnatural uranium\n",
       "\tTemperature    =\t900\n",
       "\tDensity        =\t10.96 [g/cc]\n",
       "\tVolume         =\tNone [cm^3]\n",
       "\tDepletable     =\tTrue\n",
       "\tS(a,b) Tables  \n",
       "\tNuclides       \n",
       "\tU234           =\t5.4e-05      [ao]\n",
       "\tU235           =\t0.007204     [ao]\n",
       "\tU238           =\t0.992742     [ao]\n",
       "\tO16            =\t1.9952412    [ao]\n",
       "\tO17            =\t0.000758     [ao]\n",
       "\tO18            =\t0.0040008    [ao]"
      ]
     },
     "execution_count": 3,
     "metadata": {},
     "output_type": "execute_result"
    }
   ],
   "source": [
    "nat_u"
   ]
  },
  {
   "cell_type": "code",
   "execution_count": 4,
   "metadata": {},
   "outputs": [],
   "source": [
    "en_u = openmc.Material(material_id = 2, name = '5% enriched uranium')\n",
    "en_u.add_element('U',1.0,enrichment=5.0)\n",
    "en_u.add_element('O',2.0)\n",
    "en_u.set_density('g/cc',10.96)\n",
    "en_u.temperature = 900\n",
    "en_u.depletable = True "
   ]
  },
  {
   "cell_type": "code",
   "execution_count": 5,
   "metadata": {},
   "outputs": [
    {
     "data": {
      "text/plain": [
       "Material\n",
       "\tID             =\t2\n",
       "\tName           =\t5% enriched uranium\n",
       "\tTemperature    =\t900\n",
       "\tDensity        =\t10.96 [g/cc]\n",
       "\tVolume         =\tNone [cm^3]\n",
       "\tDepletable     =\tTrue\n",
       "\tS(a,b) Tables  \n",
       "\tNuclides       \n",
       "\tU234           =\t0.00045233054969570684 [ao]\n",
       "\tU235           =\t0.05060678291113408 [ao]\n",
       "\tU238           =\t0.9487090831661895 [ao]\n",
       "\tU236           =\t0.0002318033729806761 [ao]\n",
       "\tO16            =\t1.9952412    [ao]\n",
       "\tO17            =\t0.000758     [ao]\n",
       "\tO18            =\t0.0040008    [ao]"
      ]
     },
     "execution_count": 5,
     "metadata": {},
     "output_type": "execute_result"
    }
   ],
   "source": [
    "en_u"
   ]
  },
  {
   "cell_type": "code",
   "execution_count": 6,
   "metadata": {},
   "outputs": [
    {
     "name": "stderr",
     "output_type": "stream",
     "text": [
      "/home/nushaer/miniforge3/envs/openmc-env/lib/python3.12/site-packages/openmc/mixin.py:70: IDWarning: Another Material instance already exists with id=3.\n",
      "  warn(msg, IDWarning)\n"
     ]
    }
   ],
   "source": [
    "u235 = openmc.Material(name='U235')\n",
    "u235.add_nuclide('U235', 1.0)\n",
    "u235.set_density('g/cm3', 10.0)\n",
    "\n",
    "u238 = openmc.Material(name='U238')\n",
    "u238.add_nuclide('U238', 1.0)\n",
    "u238.set_density('g/cm3', 10.0)\n",
    "\n",
    "pu238 = openmc.Material(name='Pu238')\n",
    "pu238.add_nuclide('Pu238', 1.0)\n",
    "pu238.set_density('g/cm3', 10.0)\n",
    "\n",
    "pu239 = openmc.Material(name='U235')\n",
    "pu239.add_nuclide('Pu239', 1.0)\n",
    "pu239.set_density('g/cm3', 10.0)\n",
    "\n",
    "pu240 = openmc.Material(name='Pu240')\n",
    "pu240.add_nuclide('Pu240', 1.0)\n",
    "pu240.set_density('g/cm3', 10.0)\n",
    "\n",
    "pu241 = openmc.Material(name='Pu241')\n",
    "pu241.add_nuclide('Pu241', 1.0)\n",
    "pu241.set_density('g/cm3', 10.0)\n",
    "\n",
    "pu242 = openmc.Material(name='Pu242')\n",
    "pu242.add_nuclide('Pu242', 1.0)\n",
    "pu242.set_density('g/cm3', 10.0)\n",
    "\n",
    "o16 = openmc.Material(name='O16')\n",
    "o16.add_nuclide('O16', 1.0)\n",
    "o16.set_density('g/cm3', 10.0)\n",
    "\n",
    "MOX = openmc.Material.mix_materials(\n",
    "    [u235, u238, pu238, pu239, pu240, pu241, pu242, o16],\n",
    "    [0.007, 0.6615, 0.0053, 0.128, 0.05, 0.015, 0.0156, 0.1176],\n",
    "    'wo'\n",
    ")\n",
    "MOX.id = 3\n",
    "MOX.name = 'Mixed Oxide Fuel'\n",
    "MOX.temperature = 900\n",
    "MOX.depletable = True\n"
   ]
  },
  {
   "cell_type": "code",
   "execution_count": 7,
   "metadata": {},
   "outputs": [
    {
     "name": "stderr",
     "output_type": "stream",
     "text": [
      "/home/nushaer/miniforge3/envs/openmc-env/lib/python3.12/site-packages/openmc/mixin.py:70: IDWarning: Another Material instance already exists with id=4.\n",
      "  warn(msg, IDWarning)\n"
     ]
    }
   ],
   "source": [
    "cladding = openmc.Material(material_id=4, name=\"stainless steel 316L\")\n",
    "cladding.add_element('Fe',0.66,'wo')\n",
    "cladding.add_element('Cr', 0.17,'wo')\n",
    "cladding.add_element('Ni', 0.12,'wo')\n",
    "cladding.add_element('Mo',0.02,'wo')\n",
    "cladding.add_element('Mn',0.02,'wo')\n",
    "cladding.add_element('Si',0.01,'wo')\n",
    "cladding.set_density('g/cm3',8.0)\n",
    "cladding.temperature = 900\n",
    "cladding.depletable = False"
   ]
  },
  {
   "cell_type": "code",
   "execution_count": 8,
   "metadata": {},
   "outputs": [
    {
     "name": "stderr",
     "output_type": "stream",
     "text": [
      "/home/nushaer/miniforge3/envs/openmc-env/lib/python3.12/site-packages/openmc/mixin.py:70: IDWarning: Another Material instance already exists with id=5.\n",
      "  warn(msg, IDWarning)\n"
     ]
    }
   ],
   "source": [
    "water = openmc.Material(material_id= 5, name='Water')\n",
    "water.set_density('g/cm3', 0.76)\n",
    "water.temperature = 900\n",
    "water.add_element('H', 2)\n",
    "water.add_element('O', 1)\n",
    "water.add_s_alpha_beta('c_H_in_H2O')\n",
    "water.depletable = False"
   ]
  },
  {
   "cell_type": "code",
   "execution_count": 9,
   "metadata": {},
   "outputs": [
    {
     "name": "stderr",
     "output_type": "stream",
     "text": [
      "/home/nushaer/miniforge3/envs/openmc-env/lib/python3.12/site-packages/openmc/mixin.py:70: IDWarning: Another Material instance already exists with id=6.\n",
      "  warn(msg, IDWarning)\n"
     ]
    }
   ],
   "source": [
    "dep_U = openmc.Material(material_id = 6, name = 'Depleted Uranium')\n",
    "dep_U.add_element('U',1.0,enrichment=0.3)\n",
    "dep_U.add_element('O',2.0)\n",
    "dep_U.set_density('g/cc',10.96)\n",
    "dep_U.temperature = 900\n",
    "dep_U.depletable = True  "
   ]
  },
  {
   "cell_type": "code",
   "execution_count": null,
   "metadata": {},
   "outputs": [],
   "source": [
    "Materials = openmc.Materials([nat_u,en_u,MOX,cladding,water,dep_U])\n",
    "Materials.export_to_xml()"
   ]
  }
 ],
 "metadata": {
  "kernelspec": {
   "display_name": "openmc-env",
   "language": "python",
   "name": "python3"
  },
  "language_info": {
   "codemirror_mode": {
    "name": "ipython",
    "version": 3
   },
   "file_extension": ".py",
   "mimetype": "text/x-python",
   "name": "python",
   "nbconvert_exporter": "python",
   "pygments_lexer": "ipython3",
   "version": "3.12.2"
  }
 },
 "nbformat": 4,
 "nbformat_minor": 2
}
